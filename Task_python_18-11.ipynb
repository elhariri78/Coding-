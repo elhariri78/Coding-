{
 "cells": [
  {
   "cell_type": "markdown",
   "id": "a3176c13-6d0c-4a5e-af0b-61e1bcc62dc3",
   "metadata": {},
   "source": [
    "# 1-Find the Largest Element in a List"
   ]
  },
  {
   "cell_type": "code",
   "execution_count": 11,
   "id": "c3826a1e-3974-4e2d-ac1c-2b0e83d68c37",
   "metadata": {},
   "outputs": [
    {
     "name": "stdout",
     "output_type": "stream",
     "text": [
      "90\n"
     ]
    }
   ],
   "source": [
    "lst = (10, 15, 77, 53, 12, 90)\n",
    "\n",
    "def find_largest(lst):\n",
    "    if not lst:\n",
    "        return None\n",
    "    return max(lst)\n",
    "\n",
    "print(find_largest(lst))"
   ]
  },
  {
   "cell_type": "markdown",
   "id": "7d200a6e-d323-4e58-b88e-82f79e9e0a47",
   "metadata": {},
   "source": [
    "# 2- Word Frequency Counter"
   ]
  },
  {
   "cell_type": "code",
   "execution_count": 68,
   "id": "8c7e5da3-b546-460d-aea0-bf1558c31b7f",
   "metadata": {},
   "outputs": [
    {
     "name": "stdout",
     "output_type": "stream",
     "text": [
      "Counter({'This': 2, 'is': 2, 'an': 1, 'example': 1, 'sentence.': 1, 'sentence': 1, 'repeated.': 1})\n"
     ]
    }
   ],
   "source": [
    "import collections\n",
    "\n",
    "text = \"This is an example sentence. This sentence is repeated.\"\n",
    "words = text.split()\n",
    "word_freq = collections.Counter(words)\n",
    "print(word_freq)  # Output: {'This': 2, 'is': 2, 'an': 1, 'example': 1, ...}"
   ]
  },
  {
   "cell_type": "markdown",
   "id": "bfeb75bb-77fd-42a5-856b-d20a15078c8f",
   "metadata": {},
   "source": [
    "# 3- Count Vowels in a String"
   ]
  },
  {
   "cell_type": "code",
   "execution_count": 42,
   "id": "46860d4c-880e-42d5-b197-66096eb2969c",
   "metadata": {},
   "outputs": [
    {
     "name": "stdout",
     "output_type": "stream",
     "text": [
      "Number of vowels: 5\n"
     ]
    }
   ],
   "source": [
    "def count_vowels(text):\n",
    "    vowels = \"aeiouAEIOU\"  \n",
    "    count = 0\n",
    "    \n",
    "  \n",
    "    for char in text:\n",
    "        if char in vowels:\n",
    "            count += 1\n",
    "    \n",
    "    return count \n",
    "\n",
    "\n",
    "text = \"i study everyday!\"\n",
    "vowel_count = count_vowels(text)\n",
    "\n",
    "print(f\"Number of vowels: {vowel_count}\")"
   ]
  },
  {
   "cell_type": "markdown",
   "id": "45888010-0477-4cce-891e-84bf60fa76c3",
   "metadata": {},
   "source": [
    "# 4- Find the Length of a String"
   ]
  },
  {
   "cell_type": "code",
   "execution_count": 50,
   "id": "6371e2c5-057b-45e4-ab48-276a79a92892",
   "metadata": {},
   "outputs": [
    {
     "name": "stdout",
     "output_type": "stream",
     "text": [
      "Length of the string: 22\n"
     ]
    }
   ],
   "source": [
    "\n",
    "text = \"I am learning everyday\"\n",
    "\n",
    "length_of_text = len(text)\n",
    "\n",
    "print(f\"Length of the string: {length_of_text}\")"
   ]
  },
  {
   "cell_type": "markdown",
   "id": "e7ac4312-c294-4264-b439-90632480f0c2",
   "metadata": {},
   "source": [
    "# 5- Find Even Numbers in a List"
   ]
  },
  {
   "cell_type": "code",
   "execution_count": 53,
   "id": "463136cf-8e08-49b6-a664-6f915934971a",
   "metadata": {},
   "outputs": [
    {
     "name": "stdout",
     "output_type": "stream",
     "text": [
      "Even numbers in the list: [10, 42, 60, 90]\n"
     ]
    }
   ],
   "source": [
    "def find_even_numbers(lst):\n",
    "    even_numbers = [] \n",
    "    for num in lst:\n",
    "        if num % 2 == 0:  \n",
    "            even_numbers.append(num)\n",
    "    return even_numbers\n",
    "\n",
    "\n",
    "numbers = [10, 15, 17, 35, 42, 57, 60, 77, 90]\n",
    "even_numbers = find_even_numbers(numbers)\n",
    "\n",
    "print(f\"Even numbers in the list: {even_numbers}\")"
   ]
  },
  {
   "cell_type": "markdown",
   "id": "ce15961c-7fdf-4af1-aade-21179c160323",
   "metadata": {},
   "source": [
    "# 6- Reverse a String"
   ]
  },
  {
   "cell_type": "code",
   "execution_count": 57,
   "id": "6809cac8-abc9-4eae-a809-c259717f8b50",
   "metadata": {},
   "outputs": [
    {
     "name": "stdout",
     "output_type": "stream",
     "text": [
      "Reversed string: emoh gniog mai\n"
     ]
    }
   ],
   "source": [
    "def reverse_string(text):\n",
    "    return text[::-1]  \n",
    "\n",
    "\n",
    "text = \"iam going home\"\n",
    "reversed_text = reverse_string(text)\n",
    "\n",
    "print(f\"Reversed string: {reversed_text}\")"
   ]
  },
  {
   "cell_type": "markdown",
   "id": "78a0c7b0-d1e2-443b-84b5-5b46c8f16ee1",
   "metadata": {},
   "source": [
    "# 7- Sum of All Elements in a List"
   ]
  },
  {
   "cell_type": "code",
   "execution_count": 59,
   "id": "1d4eb976-5cba-4a60-9779-e90b392017fd",
   "metadata": {},
   "outputs": [
    {
     "name": "stdout",
     "output_type": "stream",
     "text": [
      "Sum of all elements: 150\n"
     ]
    }
   ],
   "source": [
    "def sum_of_elements(lst):\n",
    "    return sum(lst) \n",
    "\n",
    "numbers = [10, 20, 30, 40, 50]\n",
    "total = sum_of_elements(numbers)\n",
    "\n",
    "print(f\"Sum of all elements: {total}\")"
   ]
  }
 ],
 "metadata": {
  "kernelspec": {
   "display_name": "Python 3 (ipykernel)",
   "language": "python",
   "name": "python3"
  },
  "language_info": {
   "codemirror_mode": {
    "name": "ipython",
    "version": 3
   },
   "file_extension": ".py",
   "mimetype": "text/x-python",
   "name": "python",
   "nbconvert_exporter": "python",
   "pygments_lexer": "ipython3",
   "version": "3.12.2"
  }
 },
 "nbformat": 4,
 "nbformat_minor": 5
}
